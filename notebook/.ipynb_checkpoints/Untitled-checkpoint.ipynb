{
 "cells": [
  {
   "cell_type": "code",
   "execution_count": 482,
   "id": "8879c873-c943-49f4-b3ef-9198d035ea3c",
   "metadata": {},
   "outputs": [],
   "source": [
    "import os\n",
    "import sys\n",
    "from typing import Union\n",
    "\n",
    "from pathlib import Path\n",
    "import numpy as np\n",
    "from shapely import (\n",
    "    Point,\n",
    "    MultiPoint,\n",
    "    LineString,\n",
    "    MultiLineString,\n",
    "    Polygon,\n",
    "    LinearRing\n",
    ")\n",
    "\n",
    "from shapely.ops import (\n",
    "    linemerge,\n",
    "    nearest_points,\n",
    "    split,\n",
    ")\n",
    "import pandas as pd\n",
    "from pandas import Timestamp\n",
    "import geopandas as gpd\n",
    "from geopandas import GeoDataFrame\n",
    "\n",
    "import matplotlib.pyplot as plt"
   ]
  },
  {
   "cell_type": "markdown",
   "id": "ed28feb9-95f4-44b5-9433-b1d417f6528c",
   "metadata": {},
   "source": [
    "# Step-by-step"
   ]
  },
  {
   "cell_type": "markdown",
   "id": "7e4cec6d-00c7-45d3-91ef-0458fc2f15bd",
   "metadata": {},
   "source": [
    "### 1. Manual change of line -> snap line to points\n",
    "\n",
    "### 2. interpolate line by distance -> 2 points shapefile\n",
    "\n",
    "### 3. compute the heads for each point -> 1 point shapefile per date (columns = date, head, geometry)\n",
    "\n",
    "#### Points -> Hc, Hb, Ha -> downstreamwards\n",
    "\n",
    "$$ \\frac{H_c - H_b}{H_c - (H_c - h)} = \\frac{d_cb}{d} $$\n",
    "\n"
   ]
  },
  {
   "cell_type": "code",
   "execution_count": 481,
   "id": "9d8d09ce-e7c6-4d08-872c-e889526751a6",
   "metadata": {},
   "outputs": [
    {
     "data": {
      "text/plain": [
       "<Axes: >"
      ]
     },
     "execution_count": 481,
     "metadata": {},
     "output_type": "execute_result"
    },
    {
     "data": {
      "image/png": "[encoded data removed]",
      "text/plain": [
       "<Figure size 640x480 with 1 Axes>"
      ]
     },
     "metadata": {},
     "output_type": "display_data"
    }
   ],
   "source": []
  },
  {
   "cell_type": "code",
   "execution_count": 296,
   "id": "43b4e876-f03a-4c98-aa2b-eb16f6a56a6a",
   "metadata": {
    "scrolled": true
   },
   "outputs": [],
   "source": [
    "# define directories\n",
    "root_dir = Path(os.getcwd()).parents[0]\n",
    "raw = root_dir.joinpath('data/raw')\n",
    "edit = root_dir.joinpath('data/edit')"
   ]
  },
  {
   "cell_type": "code",
   "execution_count": 251,
   "id": "af30b8e9-bb7b-480d-83ca-a8b0f86d78ae",
   "metadata": {},
   "outputs": [],
   "source": [
    "def remove_z_coordinate(in_shp, out_shp, save_file=True):\n",
    "    \"\"\" function to remove the z coordinate from points\n",
    "    return 3 main points\n",
    "    \"\"\"\n",
    "    in_gdf = gpd.read_file(in_shp)\n",
    "    out_gdf = in_gdf.copy()\n",
    "    \n",
    "    new_geometry = [\n",
    "        Point(\n",
    "            list(point.coords)[0][:2]\n",
    "        )\n",
    "        for point in gdf.geometry\n",
    "    ]\n",
    "    out_gdf['geometry'] = new_geometry            # all of the points are here, without Z\n",
    "\n",
    "    out_gdf_dropped = out_gdf.drop_duplicates(\n",
    "        subset='geometry'\n",
    "    ).drop_duplicates(\n",
    "        subset='StationNam'\n",
    "    ).reset_index(\n",
    "        drop=True\n",
    "    )\n",
    "    if save_file: out_gdf_dropped.to_file(out_shp)\n",
    "        \n",
    "    return out_gdf_dropped"
   ]
  },
  {
   "cell_type": "code",
   "execution_count": 387,
   "id": "f0b5ace5-73b8-40a0-a5ab-f2cdd87e2b67",
   "metadata": {},
   "outputs": [],
   "source": [
    "def split_line (in_line: LineString,\n",
    "                in_points: MultiPoint):\n",
    "    \n",
    "    pts = [point for point in in_points.geoms]\n",
    "\n",
    "    pts = [\n",
    "        in_line.interpolate(in_line.project(pt))\n",
    "        for pt in pts\n",
    "    ]\n",
    "    \n",
    "    out_pts = MultiPoint(pts)\n",
    "    out_line = split(in_line, out_pts)\n",
    "    \n",
    "    \n",
    "    return out_line, out_pts"
   ]
  },
  {
   "cell_type": "code",
   "execution_count": 120,
   "id": "07615e60-a5c8-4f92-ad6a-8bf7124bb3c7",
   "metadata": {},
   "outputs": [],
   "source": [
    "# Naming convention in Pep8\n",
    "\n",
    "def interpolate_by_distance (in_line: LineString,\n",
    "                             split_distance: Union[int, float]\n",
    "                             ) -> MultiPoint:\n",
    "    \"\"\"Function to get populate a shapely Linestring with points.\n",
    "\n",
    "    Args:\n",
    "        in_line (LineString): geometry one wishes to split.\n",
    "        split_distance (Union[int, float]): distance between points.\n",
    "\n",
    "    Returns:\n",
    "        Points over the line (MultiPoint)\n",
    "    \"\"\"\n",
    "\n",
    "    line = in_line\n",
    "    space = split_distance\n",
    "    n_points = int(line.length / space)     # that will split the lines\n",
    "    points_list = [\n",
    "        line.interpolate((i/n_points), normalized=True)\n",
    "        for i in range(1, n_points)\n",
    "        ]\n",
    "    # append extreme points\n",
    "    \n",
    "    points_list.append(Point(list(line.coords)[0]))\n",
    "    points_list.append(Point(list(line.coords)[-1]))\n",
    "\n",
    "    points = MultiPoint(points_list)\n",
    "    return points\n"
   ]
  },
  {
   "cell_type": "code",
   "execution_count": 164,
   "id": "ace6980b-9798-4578-83a5-c5ed90bb3c8c",
   "metadata": {},
   "outputs": [],
   "source": [
    "def points_from_line(in_shp, out_shp, split_distance, save_file=True):\n",
    "    \"\"\"converts reference_line_river with unjoined lines into points\"\"\"\n",
    "\n",
    "    reference_line = gpd.read_file(ref_path)\n",
    "    crs = reference_line.crs\n",
    "    line = reference_line.unary_union\n",
    "    # multipoints\n",
    "    mps = interpolate_by_distance(\n",
    "        in_line=line,\n",
    "        split_distance=split_distance\n",
    "    )\n",
    "\n",
    "    out_gdf = gpd.GeoDataFrame(\n",
    "        geometry=[mps],\n",
    "        crs=crs\n",
    "    ).explode(\n",
    "        index_parts=True\n",
    "    ).reset_index(\n",
    "        drop=True\n",
    "    )\n",
    "\n",
    "    if save_file: out_gdf.to_file(out_shp)\n",
    "        \n",
    "    return out_gdf\n"
   ]
  },
  {
   "cell_type": "code",
   "execution_count": 443,
   "id": "70612816-8e37-46c7-8672-d079381b58ff",
   "metadata": {},
   "outputs": [],
   "source": [
    "def round_geometry_coords(geo,\n",
    "                          n_digits: int = 5) -> Polygon:\n",
    "    \"\"\"Round the coordinates of a Shapely polygon to a number of decimals.\n",
    "\n",
    "    Args:\n",
    "        polygon (Polygon): polygon to be rounded\n",
    "        n_digits (int, optional): . Defaults to 5.\n",
    "\n",
    "    Returns:\n",
    "        Polygon: _description_\n",
    "    \"\"\"\n",
    "\n",
    "\n",
    "    if isinstance(geo, Polygon):\n",
    "        polygon = geo\n",
    "        new_exterior = []\n",
    "        for coord in polygon.exterior.coords:\n",
    "            new_exterior.append(\n",
    "                (round(coord[0], n_digits),\n",
    "                 round(coord[1], n_digits))\n",
    "                 )\n",
    "        new_interiors = []\n",
    "        for interior in polygon.interiors:\n",
    "            new_interior = []\n",
    "            for coord in interior.coords:\n",
    "                new_interior.append(\n",
    "                    (round(coord[0], n_digits),\n",
    "                     round(coord[1], n_digits))\n",
    "                     )\n",
    "            new_interiors.append(new_interior)\n",
    "        return Polygon(shell=new_exterior, holes=new_interiors)\n",
    "\n",
    "    if isinstance(geo, LinearRing):\n",
    "        geo = LineString(geo)\n",
    "\n",
    "    elif isinstance(geo, LineString):\n",
    "        line = geo\n",
    "        new_coords = []\n",
    "        for coord in line.coords:\n",
    "            new_coords.append(\n",
    "                (round(coord[0], n_digits),\n",
    "                 round(coord[1], n_digits))\n",
    "                 )\n",
    "        return LineString(new_coords)\n",
    "\n",
    "    elif isinstance(geo, Point):\n",
    "        point = geo\n",
    "        new_x = round(point.x, n_digits)\n",
    "        new_y = round(point.y, n_digits)\n",
    "        return Point(new_x, new_y)\n",
    "\n",
    "\n",
    "    elif hasattr(geo, 'geoms'):\n",
    "        new_geometries = []\n",
    "        for subgeometry in geo.geoms:\n",
    "            new_geometries.append(\n",
    "                round_geometry_coords(subgeometry, n_digits)\n",
    "                )\n",
    "        return GeometryCollection(new_geometries)\n",
    "\n",
    "    else:\n",
    "        e_msg = f\"Unsupported geometry type: {geo.geom_type}\"\n",
    "        raise TypeError(e_msg)"
   ]
  },
  {
   "cell_type": "markdown",
   "id": "a87128ae-ddd4-4924-a266-94b7aa285008",
   "metadata": {},
   "source": [
    "### Run"
   ]
  },
  {
   "cell_type": "code",
   "execution_count": 286,
   "id": "aaae9a84-3e09-4126-a8ac-0f415ec52083",
   "metadata": {},
   "outputs": [],
   "source": [
    "def add_name_version(in_path: Path, sufix):\n",
    "    \"\"\"adding sufix to names. There can't be any points in the path\"\"\"\n",
    "    out_path = f\"{str(in_path).split('.')[0]}{sufix}.{str(in_path).split('.')[-1]}\"\n",
    "    return Path(out_path)"
   ]
  },
  {
   "cell_type": "code",
   "execution_count": 254,
   "id": "e8a9dfd1-5fa6-4135-b81b-a43df7507376",
   "metadata": {},
   "outputs": [],
   "source": [
    "# step 1\n",
    "sts_name = raw.joinpath('Neisse_WL_2017.shp')\n",
    "sts_edit_name = edit.joinpath('edit_Neisse_WL_2017.shp')\n",
    "stations = remove_z_coordinate(\n",
    "    in_shp=sts_name,\n",
    "    out_shp=sts_edit_name\n",
    ")"
   ]
  },
  {
   "cell_type": "code",
   "execution_count": 388,
   "id": "796d90b1-e17c-442e-bb82-3afd050eb96a",
   "metadata": {},
   "outputs": [],
   "source": [
    "# step 2 - split river line at each station\n",
    "\n",
    "in_path = edit.joinpath('reference_line_river.shp')\n",
    "in_gdf = gpd.read_file(in_path)\n",
    "in_line = in_gdf.unary_union\n",
    "mps = stations.unary_union\n",
    "split_river, new_stations = split_line(in_line, mps)\n",
    "\n",
    "for i, geo in enumerate(split_river.geoms):\n",
    "    gdf = gpd.GeoDataFrame(geometry=[geo], crs=in_gdf.crs)\n",
    "    out_path = add_name_version(in_path, sufix=f'_{i}')\n",
    "    gdf.to_file(out_path)"
   ]
  },
  {
   "cell_type": "code",
   "execution_count": 397,
   "id": "8389473f-e664-4c1e-aed1-5b550e8b53b8",
   "metadata": {},
   "outputs": [],
   "source": [
    "# reorder snapped stations and save them\n",
    "snapped_geos = list(new_stations.geoms)\n",
    "replace_geos = []\n",
    "for i, geo in enumerate(stations.geometry):\n",
    "    new_geo = [new_geo_i for new_geo_i in snapped_geos if new_geo_i.distance(geo) < 100][0]\n",
    "    replace_geos.append(new_geo)\n",
    "    \n",
    "stations['geometry'] = replace_geos\n",
    "out_path = add_name_version(sts_edit_name, sufix=f'_v{2}') \n",
    "stations.to_file(out_path)"
   ]
  },
  {
   "cell_type": "code",
   "execution_count": 395,
   "id": "1d795da1-86bb-49e1-a5be-49720a28e86c",
   "metadata": {},
   "outputs": [],
   "source": [
    "# step 3\n",
    "# get points from each splitted line\n",
    "splitted_lines = [\n",
    "    line for line in os.listdir(edit)\n",
    "    if line.startswith('reference_line_river_')\n",
    "    if line.endswith('shp')\n",
    "]\n",
    "ref_out_path = edit.joinpath('interpolated_points_river.shp')\n",
    "interpolated_points = []\n",
    "for i, line_shp in enumerate(splitted_lines):\n",
    "    split_distance = 5\n",
    "    ref_path = edit.joinpath(line_shp)\n",
    "    out_path = add_name_version(ref_out_path, sufix=f'_{i}')\n",
    "    interp_points = points_from_line(\n",
    "        ref_path,\n",
    "        out_path,\n",
    "        split_distance\n",
    "    )\n",
    "    interpolated_points.append(interp_points)"
   ]
  },
  {
   "cell_type": "code",
   "execution_count": 483,
   "id": "7daaf950-6a62-48fc-b4ab-c3bd57da8851",
   "metadata": {},
   "outputs": [
    {
     "data": {
      "text/plain": [
       "<Axes: >"
      ]
     },
     "execution_count": 483,
     "metadata": {},
     "output_type": "execute_result"
    },
    {
     "data": {
      "image/png": "[encoded data removed]",
      "text/plain": [
       "<Figure size 640x480 with 1 Axes>"
      ]
     },
     "metadata": {},
     "output_type": "display_data"
    }
   ],
   "source": [
    "# step 4\n",
    "# still missing to read from csv \n",
    "\n",
    "csv_path = raw.joinpath('River_WL_2017.csv')\n",
    "df = pd.read_csv(csv_path)\n",
    "dates = pd.to_datetime(df.Date)\n",
    "\n",
    "pair1 = ['Neisse_Hagenwerder', 'Neisse_NPS' ]\n",
    "pair2 = ['Neisse_NPS', 'Neisse_Goerlitz']\n",
    "\n",
    "pair1_gdf = stations.loc[\n",
    "    stations.StationNam.isin(pair1)\n",
    "]\n",
    "pair2_gdf = stations.loc[\n",
    "    stations.StationNam.isin(pair2)\n",
    "]\n",
    "\n",
    "interp_points2 = interpolated_points[0]\n",
    "interp_points1 = interpolated_points[1]\n",
    "\n",
    "\n",
    "\n",
    "def compute_heads(date: Timestamp,\n",
    "                  h0: float,\n",
    "                  h1: float,\n",
    "                  interpolated_points: GeoDataFrame) -> GeoDataFrame:\n",
    "\n",
    "    interpolated_points['y'] = interpolated_points.geometry.y\n",
    "    sorted_interpolated_points = interpolated_points.sort_values(\n",
    "        by='y', ascending=False\n",
    "    ).reset_index(drop=1)\n",
    "\n",
    "    out_gdf = sorted_interpolated_points.copy()\n",
    "    _ = np.zeros_like(out_gdf.index)\n",
    "    # interpolate\n",
    "    heads = np.linspace(h1, h0, len(_)) # north comes before\n",
    "    out_gdf ['head'] = heads    \n",
    "    out_gdf['date'] = date\n",
    "    out_gdf = out_gdf[['date', 'head', 'geometry']]\n",
    "    \n",
    "    return out_gdf\n",
    "\n",
    "\n",
    "s = '6/1/2017'\n",
    "date = Timestamp (s)\n",
    "\n",
    "t = compute_heads(\n",
    "    date=date,\n",
    "    h0=192,\n",
    "    h1=177,\n",
    "    interpolated_points=interp_points1\n",
    ")\n",
    "\n",
    "t.plot(column='head')"
   ]
  },
  {
   "cell_type": "markdown",
   "id": "bca338b7-39ee-42ac-a67a-0a65ba69f7eb",
   "metadata": {},
   "source": [
    "### Exploratory analysis"
   ]
  },
  {
   "cell_type": "markdown",
   "id": "7a178f6e-cdb9-4c09-b188-1809e6fdd1ba",
   "metadata": {},
   "source": [
    "## References\n",
    "\n",
    "https://peps.python.org/pep-0008/"
   ]
  }
 ],
 "metadata": {
  "kernelspec": {
   "display_name": "Python 3 (ipykernel)",
   "language": "python",
   "name": "python3"
  },
  "language_info": {
   "codemirror_mode": {
    "name": "ipython",
    "version": 3
   },
   "file_extension": ".py",
   "mimetype": "text/x-python",
   "name": "python",
   "nbconvert_exporter": "python",
   "pygments_lexer": "ipython3",
   "version": "3.10.0"
  }
 },
 "nbformat": 4,
 "nbformat_minor": 5
}
